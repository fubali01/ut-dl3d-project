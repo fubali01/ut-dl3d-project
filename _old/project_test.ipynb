{
 "cells": [
  {
   "cell_type": "markdown",
   "metadata": {},
   "source": [
    "## Libraries"
   ]
  },
  {
   "cell_type": "code",
   "execution_count": 1,
   "metadata": {
    "tags": []
   },
   "outputs": [
    {
     "name": "stdout",
     "output_type": "stream",
     "text": [
      "Defaulting to user installation because normal site-packages is not writeable\n",
      "Requirement already satisfied: pynrrd in ./.local/lib/python3.10/site-packages (1.1.3)\n",
      "Requirement already satisfied: numpy in ./.local/lib/python3.10/site-packages (1.26.4)\n",
      "Requirement already satisfied: torch in ./.local/lib/python3.10/site-packages (2.6.0)\n",
      "Requirement already satisfied: torchvision in ./.local/lib/python3.10/site-packages (0.21.0)\n",
      "Requirement already satisfied: monai in ./.local/lib/python3.10/site-packages (1.4.0)\n",
      "Requirement already satisfied: tensorflow in /usr/local/lib/python3.10/dist-packages (2.14.0)\n",
      "Requirement already satisfied: wandb in ./.local/lib/python3.10/site-packages (0.19.8)\n",
      "Requirement already satisfied: nibabel in ./.local/lib/python3.10/site-packages (5.3.2)\n",
      "Requirement already satisfied: utils in ./.local/lib/python3.10/site-packages (1.0.2)\n",
      "Requirement already satisfied: typing_extensions in ./.local/lib/python3.10/site-packages (from pynrrd) (4.13.0)\n",
      "Requirement already satisfied: filelock in ./.local/lib/python3.10/site-packages (from torch) (3.11.0)\n",
      "Requirement already satisfied: networkx in ./.local/lib/python3.10/site-packages (from torch) (3.4.2)\n",
      "Requirement already satisfied: jinja2 in ./.local/lib/python3.10/site-packages (from torch) (3.1.6)\n",
      "Requirement already satisfied: fsspec in ./.local/lib/python3.10/site-packages (from torch) (2025.3.1)\n",
      "Requirement already satisfied: nvidia-cuda-nvrtc-cu12==12.4.127 in ./.local/lib/python3.10/site-packages (from torch) (12.4.127)\n",
      "Requirement already satisfied: nvidia-cuda-runtime-cu12==12.4.127 in ./.local/lib/python3.10/site-packages (from torch) (12.4.127)\n",
      "Requirement already satisfied: nvidia-cuda-cupti-cu12==12.4.127 in ./.local/lib/python3.10/site-packages (from torch) (12.4.127)\n",
      "Requirement already satisfied: nvidia-cudnn-cu12==9.1.0.70 in ./.local/lib/python3.10/site-packages (from torch) (9.1.0.70)\n",
      "Requirement already satisfied: nvidia-cublas-cu12==12.4.5.8 in ./.local/lib/python3.10/site-packages (from torch) (12.4.5.8)\n",
      "Requirement already satisfied: nvidia-cufft-cu12==11.2.1.3 in ./.local/lib/python3.10/site-packages (from torch) (11.2.1.3)\n",
      "Requirement already satisfied: nvidia-curand-cu12==10.3.5.147 in ./.local/lib/python3.10/site-packages (from torch) (10.3.5.147)\n",
      "Requirement already satisfied: nvidia-cusolver-cu12==11.6.1.9 in ./.local/lib/python3.10/site-packages (from torch) (11.6.1.9)\n",
      "Requirement already satisfied: nvidia-cusparse-cu12==12.3.1.170 in ./.local/lib/python3.10/site-packages (from torch) (12.3.1.170)\n",
      "Requirement already satisfied: nvidia-cusparselt-cu12==0.6.2 in ./.local/lib/python3.10/site-packages (from torch) (0.6.2)\n",
      "Requirement already satisfied: nvidia-nccl-cu12==2.21.5 in ./.local/lib/python3.10/site-packages (from torch) (2.21.5)\n",
      "Requirement already satisfied: nvidia-nvtx-cu12==12.4.127 in ./.local/lib/python3.10/site-packages (from torch) (12.4.127)\n",
      "Requirement already satisfied: nvidia-nvjitlink-cu12==12.4.127 in ./.local/lib/python3.10/site-packages (from torch) (12.4.127)\n",
      "Requirement already satisfied: triton==3.2.0 in ./.local/lib/python3.10/site-packages (from torch) (3.2.0)\n",
      "Requirement already satisfied: sympy==1.13.1 in ./.local/lib/python3.10/site-packages (from torch) (1.13.1)\n",
      "Requirement already satisfied: mpmath<1.4,>=1.1.0 in ./.local/lib/python3.10/site-packages (from sympy==1.13.1->torch) (1.3.0)\n",
      "Requirement already satisfied: pillow!=8.3.*,>=5.3.0 in ./.local/lib/python3.10/site-packages (from torchvision) (11.1.0)\n",
      "Requirement already satisfied: absl-py>=1.0.0 in ./.local/lib/python3.10/site-packages (from tensorflow) (2.2.1)\n",
      "Requirement already satisfied: astunparse>=1.6.0 in /usr/local/lib/python3.10/dist-packages (from tensorflow) (1.6.3)\n",
      "Requirement already satisfied: flatbuffers>=23.5.26 in ./.local/lib/python3.10/site-packages (from tensorflow) (25.2.10)\n",
      "Requirement already satisfied: gast!=0.5.0,!=0.5.1,!=0.5.2,>=0.2.1 in /usr/local/lib/python3.10/dist-packages (from tensorflow) (0.6.0)\n",
      "Requirement already satisfied: google-pasta>=0.1.1 in /usr/local/lib/python3.10/dist-packages (from tensorflow) (0.2.0)\n",
      "Requirement already satisfied: h5py>=2.9.0 in ./.local/lib/python3.10/site-packages (from tensorflow) (3.13.0)\n",
      "Requirement already satisfied: libclang>=13.0.0 in /usr/local/lib/python3.10/dist-packages (from tensorflow) (18.1.1)\n",
      "Requirement already satisfied: ml-dtypes==0.2.0 in ./.local/lib/python3.10/site-packages (from tensorflow) (0.2.0)\n",
      "Requirement already satisfied: opt-einsum>=2.3.2 in /usr/local/lib/python3.10/dist-packages (from tensorflow) (3.4.0)\n",
      "Requirement already satisfied: packaging in ./.local/lib/python3.10/site-packages (from tensorflow) (24.2)\n",
      "Requirement already satisfied: protobuf!=4.21.0,!=4.21.1,!=4.21.2,!=4.21.3,!=4.21.4,!=4.21.5,<5.0.0dev,>=3.20.3 in ./.local/lib/python3.10/site-packages (from tensorflow) (4.25.6)\n",
      "Requirement already satisfied: setuptools in ./.local/lib/python3.10/site-packages (from tensorflow) (78.1.0)\n",
      "Requirement already satisfied: six>=1.12.0 in ./.local/lib/python3.10/site-packages (from tensorflow) (1.17.0)\n",
      "Requirement already satisfied: termcolor>=1.1.0 in ./.local/lib/python3.10/site-packages (from tensorflow) (3.0.0)\n",
      "Requirement already satisfied: wrapt<1.15,>=1.11.0 in ./.local/lib/python3.10/site-packages (from tensorflow) (1.14.1)\n",
      "Requirement already satisfied: tensorflow-io-gcs-filesystem>=0.23.1 in /usr/local/lib/python3.10/dist-packages (from tensorflow) (0.37.1)\n",
      "Requirement already satisfied: grpcio<2.0,>=1.24.3 in ./.local/lib/python3.10/site-packages (from tensorflow) (1.71.0)\n",
      "Requirement already satisfied: tensorboard<2.15,>=2.14 in ./.local/lib/python3.10/site-packages (from tensorflow) (2.14.1)\n",
      "Requirement already satisfied: tensorflow-estimator<2.15,>=2.14.0 in /usr/local/lib/python3.10/dist-packages (from tensorflow) (2.14.0)\n",
      "Requirement already satisfied: keras<2.15,>=2.14.0 in ./.local/lib/python3.10/site-packages (from tensorflow) (2.14.0)\n",
      "Requirement already satisfied: click!=8.0.0,>=7.1 in ./.local/lib/python3.10/site-packages (from wandb) (8.1.8)\n",
      "Requirement already satisfied: docker-pycreds>=0.4.0 in ./.local/lib/python3.10/site-packages (from wandb) (0.4.0)\n",
      "Requirement already satisfied: gitpython!=3.1.29,>=1.0.0 in ./.local/lib/python3.10/site-packages (from wandb) (3.1.44)\n",
      "Requirement already satisfied: platformdirs in /usr/local/lib/python3.10/dist-packages (from wandb) (4.3.6)\n",
      "Requirement already satisfied: psutil>=5.0.0 in ./.local/lib/python3.10/site-packages (from wandb) (7.0.0)\n",
      "Requirement already satisfied: pydantic<3,>=2.6 in ./.local/lib/python3.10/site-packages (from wandb) (2.11.1)\n",
      "Requirement already satisfied: pyyaml in ./.local/lib/python3.10/site-packages (from wandb) (6.0.2)\n",
      "Requirement already satisfied: requests<3,>=2.0.0 in ./.local/lib/python3.10/site-packages (from wandb) (2.32.3)\n",
      "Requirement already satisfied: sentry-sdk>=2.0.0 in ./.local/lib/python3.10/site-packages (from wandb) (2.22.0)\n",
      "Requirement already satisfied: setproctitle in ./.local/lib/python3.10/site-packages (from wandb) (1.3.5)\n",
      "Requirement already satisfied: importlib-resources>=5.12 in ./.local/lib/python3.10/site-packages (from nibabel) (6.5.2)\n",
      "Requirement already satisfied: wheel<1.0,>=0.23.0 in /usr/local/lib/python3.10/dist-packages (from astunparse>=1.6.0->tensorflow) (0.45.1)\n",
      "Requirement already satisfied: gitdb<5,>=4.0.1 in ./.local/lib/python3.10/site-packages (from gitpython!=3.1.29,>=1.0.0->wandb) (4.0.12)\n",
      "Requirement already satisfied: annotated-types>=0.6.0 in ./.local/lib/python3.10/site-packages (from pydantic<3,>=2.6->wandb) (0.7.0)\n",
      "Requirement already satisfied: pydantic-core==2.33.0 in ./.local/lib/python3.10/site-packages (from pydantic<3,>=2.6->wandb) (2.33.0)\n",
      "Requirement already satisfied: typing-inspection>=0.4.0 in ./.local/lib/python3.10/site-packages (from pydantic<3,>=2.6->wandb) (0.4.0)\n",
      "Requirement already satisfied: charset-normalizer<4,>=2 in ./.local/lib/python3.10/site-packages (from requests<3,>=2.0.0->wandb) (3.4.1)\n",
      "Requirement already satisfied: idna<4,>=2.5 in ./.local/lib/python3.10/site-packages (from requests<3,>=2.0.0->wandb) (3.10)\n",
      "Requirement already satisfied: urllib3<3,>=1.21.1 in ./.local/lib/python3.10/site-packages (from requests<3,>=2.0.0->wandb) (2.3.0)\n",
      "Requirement already satisfied: certifi>=2017.4.17 in ./.local/lib/python3.10/site-packages (from requests<3,>=2.0.0->wandb) (2025.1.31)\n",
      "Requirement already satisfied: google-auth<3,>=1.6.3 in ./.local/lib/python3.10/site-packages (from tensorboard<2.15,>=2.14->tensorflow) (2.38.0)\n",
      "Requirement already satisfied: google-auth-oauthlib<1.1,>=0.5 in /usr/local/lib/python3.10/dist-packages (from tensorboard<2.15,>=2.14->tensorflow) (1.0.0)\n",
      "Requirement already satisfied: markdown>=2.6.8 in ./.local/lib/python3.10/site-packages (from tensorboard<2.15,>=2.14->tensorflow) (3.7)\n",
      "Requirement already satisfied: tensorboard-data-server<0.8.0,>=0.7.0 in ./.local/lib/python3.10/site-packages (from tensorboard<2.15,>=2.14->tensorflow) (0.7.2)\n",
      "Requirement already satisfied: werkzeug>=1.0.1 in ./.local/lib/python3.10/site-packages (from tensorboard<2.15,>=2.14->tensorflow) (3.1.3)\n",
      "Requirement already satisfied: MarkupSafe>=2.0 in ./.local/lib/python3.10/site-packages (from jinja2->torch) (3.0.2)\n",
      "Requirement already satisfied: smmap<6,>=3.0.1 in ./.local/lib/python3.10/site-packages (from gitdb<5,>=4.0.1->gitpython!=3.1.29,>=1.0.0->wandb) (5.0.2)\n",
      "Requirement already satisfied: cachetools<6.0,>=2.0.0 in ./.local/lib/python3.10/site-packages (from google-auth<3,>=1.6.3->tensorboard<2.15,>=2.14->tensorflow) (5.5.2)\n",
      "Requirement already satisfied: pyasn1-modules>=0.2.1 in ./.local/lib/python3.10/site-packages (from google-auth<3,>=1.6.3->tensorboard<2.15,>=2.14->tensorflow) (0.4.2)\n",
      "Requirement already satisfied: rsa<5,>=3.1.4 in ./.local/lib/python3.10/site-packages (from google-auth<3,>=1.6.3->tensorboard<2.15,>=2.14->tensorflow) (4.9)\n",
      "Requirement already satisfied: requests-oauthlib>=0.7.0 in /usr/local/lib/python3.10/dist-packages (from google-auth-oauthlib<1.1,>=0.5->tensorboard<2.15,>=2.14->tensorflow) (2.0.0)\n",
      "Requirement already satisfied: pyasn1<0.7.0,>=0.6.1 in ./.local/lib/python3.10/site-packages (from pyasn1-modules>=0.2.1->google-auth<3,>=1.6.3->tensorboard<2.15,>=2.14->tensorflow) (0.6.1)\n",
      "Requirement already satisfied: oauthlib>=3.0.0 in /usr/lib/python3/dist-packages (from requests-oauthlib>=0.7.0->google-auth-oauthlib<1.1,>=0.5->tensorboard<2.15,>=2.14->tensorflow) (3.2.0)\n",
      "Note: you may need to restart the kernel to use updated packages.\n"
     ]
    }
   ],
   "source": [
    "%pip install pynrrd numpy torch torchvision monai tensorflow wandb nibabel monai[nibabel]"
   ]
  },
  {
   "cell_type": "code",
   "execution_count": 2,
   "metadata": {
    "tags": []
   },
   "outputs": [],
   "source": [
    "import monai\n",
    "import os\n",
    "import csv\n",
    "import numpy as np\n",
    "import nrrd\n",
    "import torch\n",
    "import PIL\n",
    "import IPython.display\n",
    "from tqdm import tqdm\n",
    "import matplotlib.pyplot as plt\n",
    "from monai.transforms import (\n",
    "    LoadImage,\n",
    "    LoadImaged)\n",
    "from monai.inferers import sliding_window_inference\n",
    "import nibabel as nib\n",
    "from monai.metrics import DiceHelper"
   ]
  },
  {
   "cell_type": "code",
   "execution_count": 3,
   "metadata": {
    "tags": []
   },
   "outputs": [],
   "source": [
    "def build_dict_ASOCA(data_path, mode=\"train\"):\n",
    "    # test if mode is correct\n",
    "    if mode not in [\"train\", \"validation\", \"test\", \"secret_test\"]:\n",
    "        raise ValueError(f\"Please choose a mode in ['train', 'validation', 'test']. Current mode is {mode}.\")\n",
    "\n",
    "    # create empty dictionary\n",
    "    dicts = list()\n",
    "\n",
    "    for clazz in [\"Diseased\", \"Normal\"]:\n",
    "        if mode == \"train\":\n",
    "            for index in range(1,16):\n",
    "                image_path = os.path.join(data_path, clazz, \"CTCA\", f\"{clazz}_{index}.nrrd\")\n",
    "                mask_path = os.path.join(data_path, clazz, \"Annotations\", f\"{clazz}_{index}.nrrd\")\n",
    "                dicts.append({\"img\": image_path, \"mask\": mask_path})\n",
    "        if mode == \"validation\":\n",
    "            for index in range(16,19):\n",
    "                image_path = os.path.join(data_path, clazz, \"CTCA\", f\"{clazz}_{index}.nrrd\")\n",
    "                mask_path = os.path.join(data_path, clazz, \"Annotations\", f\"{clazz}_{index}.nrrd\")\n",
    "                dicts.append({\"img\": image_path, \"mask\": mask_path})\n",
    "        if mode == \"test\":\n",
    "            for index in range(19,21):\n",
    "                image_path = os.path.join(data_path, clazz, \"CTCA\", f\"{clazz}_{index}.nrrd\")\n",
    "                mask_path = os.path.join(data_path, clazz, \"Annotations\", f\"{clazz}_{index}.nrrd\")\n",
    "                dicts.append({\"img\": image_path, \"mask\": mask_path})\n",
    "       \n",
    "    if mode == \"secret_test\":\n",
    "        for index in range(1,21):\n",
    "            image_path = os.path.join(data_path, f\"{index}.img.nii.gz\")\n",
    "            dicts.append({\"img\": image_path})            \n",
    "    return dicts"
   ]
  },
  {
   "cell_type": "code",
   "execution_count": 18,
   "metadata": {
    "tags": []
   },
   "outputs": [
    {
     "name": "stdout",
     "output_type": "stream",
     "text": [
      "image voxel dim: tensor([0.3770, 0.3770, 0.5000], dtype=torch.float64)\n",
      "image voxel dim: torch.Size([512, 512, 275])\n"
     ]
    }
   ],
   "source": [
    "# Some examples of image sizes and voxel dimensions\n",
    "\n",
    "loader = LoadImage(dtype=np.float32, image_only=True)\n",
    "image = loader(build_dict_ASOCA(\"ASOCA_secret\", mode=\"secret_test\")[0][\"img\"])\n",
    "print(f\"image voxel dim: {image.pixdim}\")\n",
    "print(f\"image voxel dim: {image.shape}\")"
   ]
  },
  {
   "cell_type": "code",
   "execution_count": 5,
   "metadata": {
    "tags": []
   },
   "outputs": [
    {
     "name": "stderr",
     "output_type": "stream",
     "text": [
      "Loading dataset: 100%|██████████| 30/30 [01:06<00:00,  2.23s/it]\n",
      "Loading dataset: 100%|██████████| 6/6 [00:14<00:00,  2.37s/it]\n",
      "Loading dataset: 100%|██████████| 20/20 [00:20<00:00,  1.04s/it]\n",
      "Loading dataset: 100%|██████████| 4/4 [00:12<00:00,  3.20s/it]\n"
     ]
    }
   ],
   "source": [
    "# adjust cache_rate based on how much memory you have. test_dataset is only used for visualization / at end, so dont need to cache it\n",
    "# Look at the values for pixdim\n",
    "\n",
    "# Training transforms\n",
    "train_transform = monai.transforms.Compose([\n",
    "    # Load the image with monai's image loader:\n",
    "    monai.transforms.LoadImaged(keys=(\"img\", \"mask\"), image_only=False),\n",
    "    # Add channel since transforms expect a channel dimension:\n",
    "    monai.transforms.EnsureChannelFirstd(keys=['img', 'mask'], channel_dim=\"no_channel\"),\n",
    "    # Create uniform voxel spacing:\n",
    "    monai.transforms.Spacingd(keys=[\"img\", \"mask\"], pixdim=(0.5, 0.5, 0.5), mode=(\"bilinear\", \"nearest\")),\n",
    "    monai.transforms.ScaleIntensityRanged(keys=['img'],a_min=0,a_max=1000,b_min=0.0,b_max=1.0,clip=True),\n",
    "    # Random flip and rotate:\n",
    "    monai.transforms.RandFlipd(keys=['img', 'mask'], prob=0.5, spatial_axis=0),\n",
    "    monai.transforms.RandFlipd(keys=['img', 'mask'], prob=0.5, spatial_axis=1),\n",
    "    monai.transforms.RandFlipd(keys=['img', 'mask'], prob=0.5, spatial_axis=2),\n",
    "    monai.transforms.RandRotated(keys=['img', 'mask'], range_x=np.pi/4, prob=0.5, mode=['bilinear', 'nearest']),\n",
    "    # Crop to 128×128×128\n",
    "    monai.transforms.RandCropByPosNegLabeld(keys=['img', 'mask'],spatial_size = [256,256,128],label_key='mask',neg=0,num_samples=2)\n",
    "    #monai.transforms.RandSpatialCropd(keys=['img', 'mask'], roi_size=[256,256,128], random_size=False)\n",
    "])\n",
    "\n",
    "# Validation transforms\n",
    "val_transform = monai.transforms.Compose([\n",
    "    # Load the image with monai's image loader:\n",
    "    monai.transforms.LoadImaged(keys=(\"img\", \"mask\"), image_only=False),\n",
    "    # Add channel since transforms expect a channel dimension:\n",
    "    monai.transforms.EnsureChannelFirstd(keys=['img', 'mask'], channel_dim=\"no_channel\"),\n",
    "    # Create uniform voxel spacing:\n",
    "    monai.transforms.Spacingd(keys=[\"img\", \"mask\"], pixdim=(0.5, 0.5, 0.5), mode=(\"bilinear\", \"nearest\")),\n",
    "    monai.transforms.ScaleIntensityRanged(keys=['img'],a_min=0,a_max=1000,b_min=0.0,b_max=1.0,clip=True),\n",
    "    #monai.transforms.RandCropByPosNegLabeld(keys=['img', 'mask'],spatial_size = [256,256,128],label_key='mask',neg=0,num_samples=2)\n",
    "])\n",
    "\n",
    "# Test transforms\n",
    "test_transform = monai.transforms.Compose([\n",
    "    # Load the image with monai's image loader:\n",
    "    monai.transforms.LoadImaged(keys=(\"img\", 'mask'), image_only=True),\n",
    "    # Add channel since transforms expect a channel dimension:\n",
    "    monai.transforms.EnsureChannelFirstd(keys=['img', 'mask'], channel_dim=\"no_channel\"),\n",
    "    # Create uniform voxel spacing:\n",
    "    monai.transforms.Spacingd(keys=['img', 'mask'], pixdim=(0.5, 0.5, 0.5), mode=(\"bilinear\", \"nearest\")),\n",
    "    monai.transforms.ScaleIntensityRanged(keys=['img'],a_min=0,a_max=1000,b_min=0.0,b_max=1.0,clip=True),\n",
    "])\n",
    "\n",
    "# SecretTest transforms\n",
    "secrettest_transform = monai.transforms.Compose([\n",
    "    # Load the image with monai's image loader:\n",
    "    monai.transforms.LoadImaged(keys=(\"img\"), image_only=True),\n",
    "    # Add channel since transforms expect a channel dimension:\n",
    "    monai.transforms.EnsureChannelFirstd(keys=['img'], channel_dim=\"no_channel\"),\n",
    "    # Create uniform voxel spacing:\n",
    "    monai.transforms.Spacingd(keys=['img'], pixdim=(0.5, 0.5, 0.5), mode=(\"bilinear\")),\n",
    "    monai.transforms.ScaleIntensityRanged(keys=['img'],a_min=0,a_max=1000,b_min=0.0,b_max=1.0,clip=True),\n",
    "])\n",
    "\n",
    "train_dataset = monai.data.CacheDataset(build_dict_ASOCA(\"ASOCA\", mode=\"train\"), transform=train_transform, num_workers = 8)\n",
    "validation_dataset = monai.data.CacheDataset(build_dict_ASOCA(\"ASOCA\", mode=\"validation\"), transform=val_transform, num_workers =8)\n",
    "secrettest_dataset = monai.data.CacheDataset(build_dict_ASOCA(\"ASOCA_secret\", mode=\"secret_test\"), transform=secrettest_transform, num_workers = 8)\n",
    "test_dataset = monai.data.CacheDataset(build_dict_ASOCA(\"ASOCA\", mode=\"test\"), transform=test_transform, num_workers = 8)"
   ]
  },
  {
   "cell_type": "code",
   "execution_count": 22,
   "metadata": {
    "tags": []
   },
   "outputs": [
    {
     "name": "stdout",
     "output_type": "stream",
     "text": [
      "Voxel dim of the image tensor([0.5000, 0.5000, 0.5000], dtype=torch.float64)\n",
      "Shape of the image torch.Size([1, 256, 256, 128])\n",
      "Voxel dim of the mask tensor([0.5000, 0.5000, 0.5000], dtype=torch.float64)\n",
      "Shape of the mask torch.Size([1, 256, 256, 128])\n"
     ]
    }
   ],
   "source": [
    "# Check if the image size and voxel dimension have correctly changed\n",
    "sample_dict = train_dataset[1][0]\n",
    "print(\"Voxel dim of the image\", sample_dict[\"img\"].pixdim)\n",
    "print(\"Shape of the image\", sample_dict[\"img\"].shape)\n",
    "print(\"Voxel dim of the mask\", sample_dict[\"mask\"].pixdim)\n",
    "print(\"Shape of the mask\", sample_dict[\"mask\"].shape)"
   ]
  },
  {
   "cell_type": "code",
   "execution_count": 6,
   "metadata": {
    "tags": []
   },
   "outputs": [],
   "source": [
    "# Visualization options\n",
    "color_actual = [0.616, 0.816, 0.769]\n",
    "color_predicted = '#beb4ac'\n",
    "\n",
    "def RGB_mask(mask, color):\n",
    "    result = np.zeros((*mask.shape,3))\n",
    "    for i in range(3):\n",
    "        result[...,i]=color[i]*mask\n",
    "    return result\n",
    "\n",
    "def RGB_image(image):\n",
    "    result = image-image.min() # [a,b] -> [0, b-a]\n",
    "    result = result/result.max() # [0, b-a] -> [0,1] -> [0,255]\n",
    "    return np.repeat(np.reshape(result[:,:,:], [image.shape[0],image.shape[1],image.shape[2],1]),3,axis=3)\n",
    "\n",
    "def visualize_3d_gif(image=None, actual_mask=None, predicted_mask=None, name_gif=\"array.gif\"):\n",
    "    if image is not None:\n",
    "        image = image.numpy().squeeze()\n",
    "        rgb_image = RGB_image(image)\n",
    "        result = rgb_image\n",
    "    for i in range(2):\n",
    "        mask = [actual_mask, predicted_mask][i]\n",
    "        if mask is not None:\n",
    "            mask = mask.numpy().squeeze()\n",
    "            rgb_mask = RGB_mask(mask, [color_actual, color_predicted][i])\n",
    "            if result is not None:\n",
    "                result += rgb_mask\n",
    "            else:\n",
    "                result = rgb_mask\n",
    "\n",
    "    result = result/np.max(result)*255\n",
    "    result = result.astype(np.uint8)\n",
    "    images = [PIL.Image.fromarray(result[:,:,index,:]) for index in range(image.shape[2])]\n",
    "    images[0].save(name_gif, save_all=True, append_images=images[1:],loop=0)\n",
    "\n",
    "def visualize_3d_masks(actual_mask=None, predicted_mask=None):\n",
    "    fig=plt.figure()\n",
    "    ax = fig.add_subplot(111, projection=\"3d\")\n",
    "\n",
    "    for i in range(2):\n",
    "        mask = [actual_mask, predicted_mask][i]\n",
    "        if mask is not None:\n",
    "            mask = mask.numpy().squeeze()\n",
    "            pos = np.where(mask==1)\n",
    "            ax.scatter(pos[0],pos[1],pos[2], color=[color_actual, color_predicted][i])\n",
    "\n",
    "    # multiple figures at different angles?\n",
    "    #ax.view_init(45, 0)\n",
    "    plt.show()    \n",
    "\n",
    "def visualize_histogram(image, mask):\n",
    "    image = image.numpy().squeeze()\n",
    "    mask = mask.numpy().squeeze()\n",
    "    fig, axs = plt.subplots(1, 2, tight_layout=True) \n",
    "    axs[0].hist(image[mask==0], bins=20)\n",
    "    axs[0].set_title(\"Background class\")\n",
    "    axs[1].hist(image[mask==1], bins=20)\n",
    "    axs[1].set_title(\"Vessel class\")   \n",
    "    plt.show()"
   ]
  },
  {
   "cell_type": "code",
   "execution_count": null,
   "metadata": {
    "tags": []
   },
   "outputs": [],
   "source": [
    "visualize_3d_gif(image=validation_dataset[0][\"img\"], actual_mask=validation_dataset[0][\"mask\"])\n",
    "display(IPython.display.Image(data=open(\"array.gif\",'rb').read(), format='png'))\n",
    "visualize_3d_masks(actual_mask=validation_dataset[0][\"mask\"])\n",
    "visualize_histogram(validation_dataset[0][\"img\"],validation_dataset[0][\"mask\"])"
   ]
  },
  {
   "cell_type": "code",
   "execution_count": null,
   "metadata": {
    "tags": []
   },
   "outputs": [],
   "source": [
    "def visualize_histogram_secret(original, secret):\n",
    "    original = original.numpy().squeeze().flatten()\n",
    "    secret = secret.numpy().squeeze().flatten()\n",
    "    fig, axs = plt.subplots(1, 2, tight_layout=True) \n",
    "    axs[0].hist(original, bins=20)\n",
    "    axs[0].set_title(\"Sample from original dataset\")\n",
    "    axs[1].hist(secret, bins=20)\n",
    "    axs[1].set_title(\"Sample from secret test dataset\")   \n",
    "    plt.show()\n",
    "    \n",
    "visualize_histogram_secret(validation_dataset[0][\"img\"], secrettest_dataset[0][\"img\"])"
   ]
  },
  {
   "cell_type": "code",
   "execution_count": 7,
   "metadata": {
    "tags": []
   },
   "outputs": [
    {
     "name": "stderr",
     "output_type": "stream",
     "text": [
      "\u001b[34m\u001b[1mwandb\u001b[0m: Using wandb-core as the SDK backend.  Please refer to https://wandb.me/wandb-core for more information.\n",
      "\u001b[34m\u001b[1mwandb\u001b[0m: Currently logged in as: \u001b[33md-weistra\u001b[0m (\u001b[33md-weistra-university-of-twente\u001b[0m) to \u001b[32mhttps://api.wandb.ai\u001b[0m. Use \u001b[1m`wandb login --relogin`\u001b[0m to force relogin\n"
     ]
    }
   ],
   "source": [
    "import wandb\n",
    "wandb.login()\n",
    "\n",
    "train_loader = monai.data.DataLoader(train_dataset, batch_size=5, num_workers=6,pin_memory=torch.cuda.is_available())\n",
    "validation_loader = monai.data.DataLoader(validation_dataset, batch_size=1, num_workers=6,pin_memory=torch.cuda.is_available())\n",
    "secrettest_loader = monai.data.DataLoader(secrettest_dataset, batch_size=1, num_workers=8,pin_memory=torch.cuda.is_available())\n",
    "test_loader = monai.data.DataLoader(test_dataset, batch_size=1, num_workers=8,pin_memory=torch.cuda.is_available())\n",
    "\n",
    "device = torch.device(\"cuda:1\")\n",
    "model = monai.networks.nets.UNet(\n",
    "    spatial_dims=3,\n",
    "    in_channels=1,\n",
    "    out_channels=2,\n",
    "    channels=(8, 16, 32, 64, 128),\n",
    "    strides=(2, 2, 2, 2),\n",
    "    num_res_units=2\n",
    ").to(device)\n",
    "\n",
    "optimizer = torch.optim.Adam(model.parameters(), lr=1e-3)\n",
    "loss_function = monai.losses.DiceLoss(to_onehot_y=True, softmax=True)\n",
    "#loss_function = monai.losses.SoftclDiceLoss"
   ]
  },
  {
   "cell_type": "code",
   "execution_count": null,
   "metadata": {
    "tags": []
   },
   "outputs": [],
   "source": [
    "run = wandb.init(\n",
    "    project='ASOCAproject',\n",
    "    name='Test_crop256_v14',\n",
    "\n",
    "    config={\n",
    "        'loss function': str(loss_function), \n",
    "        'lr': optimizer.param_groups[0][\"lr\"],\n",
    "        'batch_size': train_loader.batch_size,\n",
    "    }\n",
    ")\n",
    "\n",
    "run_id = run.id # We remember here the run ID to be able to write the evaluation metrics\n",
    "\n",
    "def log_to_wandb(epoch, train_loss, val_loss, batch_data):\n",
    "    \"\"\" Function that logs ongoing training variables to W&B \"\"\"\n",
    "    wandb.log({'epoch': epoch, 'train_loss': train_loss, 'val_loss': val_loss})\n",
    "\n",
    "for epoch in tqdm(range(1000)):\n",
    "    # training\n",
    "    model.train()\n",
    "    epoch_loss=0\n",
    "    step=0\n",
    "    for batch in tqdm(train_loader, desc=\"Training Step\", leave=False, ncols=100):  # Nested tqdm for training steps\n",
    "        print(step)\n",
    "        step += 1\n",
    "        optimizer.zero_grad()\n",
    "        inputs = batch[\"img\"].to(device)\n",
    "        labels = batch[\"mask\"].to(device)\n",
    "        outputs = model(inputs)\n",
    "        loss = loss_function(outputs, labels)\n",
    "        loss.backward()\n",
    "        optimizer.step()\n",
    "        epoch_loss += loss.item() \n",
    "    train_loss = epoch_loss / step\n",
    "    \n",
    "    # validation\n",
    "    step = 0\n",
    "    val_loss = 0\n",
    "    with torch.no_grad():\n",
    "        for batch in tqdm(validation_loader, desc=\"Validation Step\", leave=False, ncols=100):  # Nested tqdm for training steps\n",
    "            print(step)\n",
    "            step += 1\n",
    "            model.eval()\n",
    "            inputs = batch[\"img\"].to(device)\n",
    "            labels = batch[\"mask\"].to(device)\n",
    "            outputs = sliding_window_inference(inputs, (256, 256, 128), 4, model)\n",
    "            loss = loss_function(outputs, labels)\n",
    "            val_loss+= loss.item()\n",
    "        val_loss = val_loss / step\n",
    "    \n",
    "    log_to_wandb(epoch, train_loss, val_loss, batch)\n",
    "    print(f\"Epoch {epoch+1}, Train loss: {train_loss:.4f}, Validation loss: {val_loss:.4f}\")\n",
    "    \n",
    "    torch.save(model.state_dict(),os.path.join(f\"Trained_crop256_v14\", f\"trainedUNet_epoch{epoch}.pt\"))\n",
    "run.finish()"
   ]
  },
  {
   "cell_type": "code",
   "execution_count": 9,
   "metadata": {
    "tags": []
   },
   "outputs": [
    {
     "data": {
      "text/plain": [
       "<All keys matched successfully>"
      ]
     },
     "execution_count": 9,
     "metadata": {},
     "output_type": "execute_result"
    }
   ],
   "source": [
    "# Option to load a previous trained model, check path!\n",
    "model.load_state_dict(torch.load(r'Trained_crop256_v13/trainedUNet_epoch399.pt'))"
   ]
  },
  {
   "cell_type": "code",
   "execution_count": 16,
   "metadata": {
    "tags": []
   },
   "outputs": [],
   "source": [
    "from monai.metrics import DiceHelper\n",
    "def visual_evaluation(sample, model):\n",
    "    model.eval()\n",
    "    inferer = monai.inferers.SlidingWindowInferer(roi_size=[256, 256, 128])\n",
    "    discrete_transform = monai.transforms.AsDiscrete(logit_thresh=0.5, threshold_values=True)\n",
    "    Softmax = torch.nn.Softmax()\n",
    "    with torch.no_grad():\n",
    "        #print(sample['img'].shape)\n",
    "        #output = discrete_transform(Softmax(model(sample['img'].to('cuda:1'))).cpu()).squeeze()\n",
    "        output = discrete_transform(Softmax(inferer(sample['img'].to('cuda:1'), network=model).cpu()))\n",
    "        score, not_nans = DiceHelper(include_background=False,softmax=True)(output, sample['mask'])\n",
    "        hausdorff = monai.metrics.compute_hausdorff_distance(output, sample['mask'],percentile = 95)\n",
    "        output = output.squeeze().astype(np.uint8)\n",
    "        output = np.squeeze(output[1, :, :, :])\n",
    "        #print(output.shape)\n",
    "    \n",
    "    fig, ax =plt.subplots(1,2, subplot_kw={\"projection\":\"3d\"})\n",
    "\n",
    "    actual_mask = np.squeeze(sample['mask'])\n",
    "    pos = np.where(actual_mask==1)\n",
    "    pos2 = np.where(output == 1)\n",
    "    ax[0].scatter(pos[0],pos[1],pos[2], color=color_actual,s=0.5)\n",
    "    ax[1].scatter(pos2[0],pos2[1],pos2[2], color=color_predicted,s=0.5)\n",
    "    ax[0].title.set_text('Ground truth')\n",
    "    ax[1].title.set_text('Results')\n",
    "    ax[0].set_axis_off()\n",
    "    ax[1].set_axis_off()\n",
    "    ax[0].set_xlim([min(pos[0]),max(pos[0])])\n",
    "    ax[0].set_ylim([min(pos[1]),max(pos[1])])\n",
    "    ax[0].set_zlim([min(pos[2]),max(pos[2])])\n",
    "    ax[1].set_xlim([min(pos[0]),max(pos[0])])\n",
    "    ax[1].set_ylim([min(pos[1]),max(pos[1])])\n",
    "    ax[1].set_zlim([min(pos[2]),max(pos[2])])\n",
    "    img_name = sample['img'].meta[\"filename_or_obj\"][0].split(\"/\")[-1].replace('.nrrd', '_result.png')\n",
    "    plt.subplots_adjust(wspace=-0.15, hspace=-0.5)\n",
    "    plt.savefig(os.path.join('Result_images', img_name), bbox_inches='tight',dpi=1200)\n",
    "    plt.show()\n",
    "    \n",
    "    print(\"Ground truth number of points: \",len(pos[0]))\n",
    "    print(\"Output number of points: \",len(pos2[0]))\n",
    "    print(\"Dice score:\", score.detach().numpy()[0])\n",
    "    print(\"Hausdorff: \", hausdorff.item())\n",
    "   \n",
    "       \n",
    "def visual_evaluationtest(sample, model):\n",
    "    model.eval()\n",
    "    inferer = monai.inferers.SlidingWindowInferer(roi_size=[256, 256, 128])\n",
    "    discrete_transform = monai.transforms.AsDiscrete(logit_thresh=0.5, threshold_values=True)\n",
    "    Softmax = torch.nn.Softmax()\n",
    "    with torch.no_grad():\n",
    "        spatial_shape = sample['img'].meta['spatial_shape'].tolist()[0]\n",
    "        output = discrete_transform(Softmax(inferer(sample['img'].to('cuda:1'), network=model).cpu()))\n",
    "        output = torch.nn.Upsample(size=spatial_shape)(output)\n",
    "        output = output.squeeze().astype(np.uint8)\n",
    "        output = np.squeeze(output[1, :, :, :])\n",
    "        img_name = sample['img'].meta[\"filename_or_obj\"][0].split(\"/\")[-1].replace('img.nii.gz', 'mask')\n",
    "        \n",
    "    original_affine = sample['img'].meta['original_affine'].detach().numpy()[0]\n",
    "    img_name = sample['img'].meta[\"filename_or_obj\"][0].split(\"/\")[-1].replace('img', 'mask')\n",
    "    nib.save(nib.Nifti1Image(output, original_affine), os.path.join('Output', img_name))\n",
    "    \n",
    "    fig, ax =plt.subplots(1, subplot_kw={\"projection\":\"3d\"})\n",
    "    pos2 = np.where(output == 1)\n",
    "    print(len(pos2[0]))\n",
    "    ax.scatter(pos2[0],pos2[1],pos2[2], color=color_predicted)\n",
    "   \n",
    "    plt.show()  "
   ]
  },
  {
   "cell_type": "code",
   "execution_count": 17,
   "metadata": {
    "tags": []
   },
   "outputs": [
    {
     "name": "stderr",
     "output_type": "stream",
     "text": [
      "Implicit dimension choice for softmax has been deprecated. Change the call to include dim=X as an argument.\n"
     ]
    },
    {
     "data": {
      "image/png": "[encoded data removed]",
      "text/plain": [
       "<Figure size 640x480 with 2 Axes>"
      ]
     },
     "metadata": {},
     "output_type": "display_data"
    },
    {
     "name": "stdout",
     "output_type": "stream",
     "text": [
      "Ground truth number of points:  26058\n",
      "Output number of points:  16044\n",
      "Dice score: 0.81024337\n",
      "Hausdorff:  17.50138282775879\n"
     ]
    },
    {
     "name": "stderr",
     "output_type": "stream",
     "text": [
      "Implicit dimension choice for softmax has been deprecated. Change the call to include dim=X as an argument.\n"
     ]
    },
    {
     "data": {
      "image/png": "[encoded data removed]",
      "text/plain": [
       "<Figure size 640x480 with 2 Axes>"
      ]
     },
     "metadata": {},
     "output_type": "display_data"
    },
    {
     "name": "stdout",
     "output_type": "stream",
     "text": [
      "Ground truth number of points:  33561\n",
      "Output number of points:  16251\n",
      "Dice score: 0.7968935\n",
      "Hausdorff:  25.766225814819336\n"
     ]
    },
    {
     "data": {
      "image/png": "[encoded data removed]",
      "text/plain": [
       "<Figure size 640x480 with 2 Axes>"
      ]
     },
     "metadata": {},
     "output_type": "display_data"
    },
    {
     "name": "stdout",
     "output_type": "stream",
     "text": [
      "Ground truth number of points:  17737\n",
      "Output number of points:  10079\n",
      "Dice score: 0.84657806\n",
      "Hausdorff:  21.428930282592773\n"
     ]
    },
    {
     "data": {
      "image/png": "[encoded data removed]",
      "text/plain": [
       "<Figure size 640x480 with 2 Axes>"
      ]
     },
     "metadata": {},
     "output_type": "display_data"
    },
    {
     "name": "stdout",
     "output_type": "stream",
     "text": [
      "Ground truth number of points:  21873\n",
      "Output number of points:  11570\n",
      "Dice score: 0.8104283\n",
      "Hausdorff:  15.524174690246582\n"
     ]
    }
   ],
   "source": [
    "for sample in test_loader:\n",
    "    visual_evaluation(sample, model.to('cuda:1'))"
   ]
  },
  {
   "cell_type": "code",
   "execution_count": null,
   "metadata": {
    "tags": []
   },
   "outputs": [],
   "source": [
    "for sample in secrettest_loader:\n",
    "    visual_evaluationtest(sample, model.to('cuda:1'))"
   ]
  },
  {
   "cell_type": "code",
   "execution_count": 8,
   "metadata": {},
   "outputs": [
    {
     "name": "stdout",
     "output_type": "stream",
     "text": [
      "Thu Apr  3 22:35:00 2025       \n",
      "+-----------------------------------------------------------------------------------------+\n",
      "| NVIDIA-SMI 555.42.06              Driver Version: 555.42.06      CUDA Version: 12.5     |\n",
      "|-----------------------------------------+------------------------+----------------------+\n",
      "| GPU  Name                 Persistence-M | Bus-Id          Disp.A | Volatile Uncorr. ECC |\n",
      "| Fan  Temp   Perf          Pwr:Usage/Cap |           Memory-Usage | GPU-Util  Compute M. |\n",
      "|                                         |                        |               MIG M. |\n",
      "|=========================================+========================+======================|\n",
      "|   0  NVIDIA A16                     Off |   00000000:1B:00.0 Off |                    0 |\n",
      "|  0%   45C    P0             41W /   62W |   14953MiB /  15356MiB |     55%      Default |\n",
      "|                                         |                        |                  N/A |\n",
      "+-----------------------------------------+------------------------+----------------------+\n",
      "|   1  NVIDIA A16                     Off |   00000000:1C:00.0 Off |                    0 |\n",
      "|  0%   40C    P0             26W /   62W |   14465MiB /  15356MiB |      0%      Default |\n",
      "|                                         |                        |                  N/A |\n",
      "+-----------------------------------------+------------------------+----------------------+\n",
      "|   2  NVIDIA A16                     Off |   00000000:1D:00.0 Off |                    0 |\n",
      "|  0%   55C    P0             60W /   62W |   14747MiB /  15356MiB |     91%      Default |\n",
      "|                                         |                        |                  N/A |\n",
      "+-----------------------------------------+------------------------+----------------------+\n",
      "|   3  NVIDIA A16                     Off |   00000000:1E:00.0 Off |                    0 |\n",
      "|  0%   32C    P0             18W /   62W |       4MiB /  15356MiB |      0%      Default |\n",
      "|                                         |                        |                  N/A |\n",
      "+-----------------------------------------+------------------------+----------------------+\n",
      "|   4  NVIDIA A16                     Off |   00000000:CE:00.0 Off |                    0 |\n",
      "|  0%   32C    P0             15W /   62W |       4MiB /  15356MiB |      0%      Default |\n",
      "|                                         |                        |                  N/A |\n",
      "+-----------------------------------------+------------------------+----------------------+\n",
      "|   5  NVIDIA A16                     Off |   00000000:CF:00.0 Off |                    0 |\n",
      "|  0%   33C    P0             18W /   62W |       4MiB /  15356MiB |      0%      Default |\n",
      "|                                         |                        |                  N/A |\n",
      "+-----------------------------------------+------------------------+----------------------+\n",
      "|   6  NVIDIA A16                     Off |   00000000:D0:00.0 Off |                    0 |\n",
      "|  0%   31C    P0             18W /   62W |       4MiB /  15356MiB |      0%      Default |\n",
      "|                                         |                        |                  N/A |\n",
      "+-----------------------------------------+------------------------+----------------------+\n",
      "|   7  NVIDIA A16                     Off |   00000000:D1:00.0 Off |                    0 |\n",
      "|  0%   32C    P0             26W /   62W |     125MiB /  15356MiB |      0%      Default |\n",
      "|                                         |                        |                  N/A |\n",
      "+-----------------------------------------+------------------------+----------------------+\n",
      "                                                                                         \n",
      "+-----------------------------------------------------------------------------------------+\n",
      "| Processes:                                                                              |\n",
      "|  GPU   GI   CI        PID   Type   Process name                              GPU Memory |\n",
      "|        ID   ID                                                               Usage      |\n",
      "|=========================================================================================|\n",
      "+-----------------------------------------------------------------------------------------+\n"
     ]
    }
   ],
   "source": [
    "# Check GPU memory\n",
    "!nvidia-smi"
   ]
  },
  {
   "cell_type": "code",
   "execution_count": null,
   "metadata": {
    "tags": []
   },
   "outputs": [],
   "source": [
    "# Check if voxel size and dimensions match\n",
    "data = LoadImage(image_only=True, ensure_channel_first=True, simple_keys=True)('ASOCA_secret/1.img.nii.gz')\n",
    "print(data.pixdim)\n",
    "print(data.shape)\n",
    "\n",
    "data = LoadImage(image_only=True, ensure_channel_first=True, simple_keys=True)('Output/1.mask.nii.gz')\n",
    "print(data.pixdim)\n",
    "print(data.shape)\n",
    "fig = monai.visualize.matshow3d(monai.transforms.Orientation(\"SPL\")(data), every_n=10)"
   ]
  },
  {
   "cell_type": "code",
   "execution_count": null,
   "metadata": {},
   "outputs": [],
   "source": []
  }
 ],
 "metadata": {
  "kernelspec": {
   "display_name": "Python",
   "language": "python",
   "name": "python3"
  },
  "language_info": {
   "codemirror_mode": {
    "name": "ipython",
    "version": 3
   },
   "file_extension": ".py",
   "mimetype": "text/x-python",
   "name": "python",
   "nbconvert_exporter": "python",
   "pygments_lexer": "ipython3",
   "version": "3.10.12"
  }
 },
 "nbformat": 4,
 "nbformat_minor": 4
}
