{
 "cells": [
  {
   "cell_type": "markdown",
   "metadata": {},
   "source": [
    "## Libraries"
   ]
  },
  {
   "cell_type": "code",
   "execution_count": null,
   "metadata": {},
   "outputs": [],
   "source": [
    "%pip install pynrrd numpy torch torchvision monai"
   ]
  },
  {
   "cell_type": "code",
   "execution_count": 2,
   "metadata": {},
   "outputs": [],
   "source": [
    "import monai\n",
    "import os\n",
    "import csv\n",
    "import numpy as np\n",
    "import nrrd\n",
    "import torch\n",
    "import PIL\n",
    "import IPython.display"
   ]
  },
  {
   "cell_type": "code",
   "execution_count": 3,
   "metadata": {},
   "outputs": [],
   "source": [
    "def pad(array, target_shape, value=-3024):\n",
    "    shape = array.shape\n",
    "    if len(shape) != len(target_shape):\n",
    "        raise ValueError(\"Target shape does not have same amount of dimensions as input array.\")\n",
    "    for dim in range(len(target_shape)):\n",
    "        if target_shape[dim] < shape[dim]:\n",
    "            raise ValueError(\"Atleast one target dimension is smaller than the current dimension.\")\n",
    "\n",
    "    result = np.ones(target_shape)*value\n",
    "    indices = list()\n",
    "    for dim in range(len(target_shape)):\n",
    "        pad_range = (target_shape[dim]-shape[dim])//2\n",
    "        indices.append([pad_range, pad_range+shape[dim]])\n",
    "    selection = tuple([slice(ind[0], ind[1]) for ind in indices])\n",
    "    result[selection]=array\n",
    "    return result, indices\n",
    "\n",
    "def unpad(array, indices):\n",
    "    if len(indices) != len(array.shape):\n",
    "        raise ValueError(\"Number of dimensions differs between array and indices.\")\n",
    "\n",
    "    selection = tuple([slice(ind[0], ind[1]) for ind in indices])\n",
    "    return array[selection]"
   ]
  },
  {
   "cell_type": "code",
   "execution_count": 4,
   "metadata": {},
   "outputs": [],
   "source": [
    "def build_dict_ASOCA(data_path, mode=\"train\"):\n",
    "    # test if mode is correct\n",
    "    if mode not in [\"train\", \"test\"]:\n",
    "        raise ValueError(f\"Please choose a mode in ['train', 'test']. Current mode is {mode}.\")\n",
    "\n",
    "    # create empty dictionary\n",
    "    dicts = list()\n",
    "\n",
    "    for clazz in [\"Diseased\", \"Normal\"]:\n",
    "        if mode == \"train\":\n",
    "            for index in range(1,21):\n",
    "                image_path = os.path.join(data_path, clazz, \"CTCA\", f\"{clazz}_{index}.nrrd\")\n",
    "                mask_path = os.path.join(data_path, clazz, \"Annotations\", f\"{clazz}_{index}.nrrd\")\n",
    "                dicts.append({\"img\": image_path, \"mask\": mask_path})\n",
    "        if mode == \"test\":\n",
    "            if clazz == \"Diseased\":\n",
    "                for index in range(10,20):\n",
    "                    image_path = os.path.join(data_path, clazz, f\"Testset_Disease\", f\"{index}.nrrd\")\n",
    "                    dicts.append({\"img\": image_path})\n",
    "            else:\n",
    "                for index in range(10):\n",
    "                    image_path = os.path.join(data_path, clazz, f\"Testset_{clazz}\", f\"{index}.nrrd\")\n",
    "                    dicts.append({\"img\": image_path})\n",
    "    return dicts\n",
    "\n",
    "class LoadASOCAData(monai.transforms.Transform):\n",
    "    \n",
    "    def __init__(self, keys=None):\n",
    "        pass\n",
    "\n",
    "    def __call__(self, sample):\n",
    "        dicts = dict()\n",
    "        image = nrrd.read(sample[\"img\"])[0]\n",
    "        image, indices = pad(image, (512,512,352))\n",
    "        dicts[\"img\"] = image.astype(np.int16) # save memory space\n",
    "        dicts[\"indices\"] = indices\n",
    "        dicts[\"sample\"] = sample # For verifying e.g. padding\n",
    "        if \"mask\" in sample.keys():\n",
    "            mask = nrrd.read(sample[\"mask\"])[0]\n",
    "            mask, indices = pad(mask, (512,512,352), value=0)\n",
    "            dicts[\"mask\"] = mask.astype(bool) # save memory space\n",
    "        return dicts"
   ]
  },
  {
   "cell_type": "code",
   "execution_count": null,
   "metadata": {},
   "outputs": [],
   "source": [
    "# adjust cache_rate based on how much memory you have. test_dataset is only used for visualization / at end, so dont need to cache it\n",
    "if \"train_dataset\" not in globals():\n",
    "    train_dataset = monai.data.SmartCacheDataset(build_dict_ASOCA(\"ASOCA\", mode=\"train\"), transform=LoadASOCAData(), cache_rate=0.5, replace_rate=0.2)\n",
    "    test_dataset = monai.data.CacheDataset(build_dict_ASOCA(\"ASOCA\", mode=\"test\"), transform=LoadASOCAData(), cache_rate=0)"
   ]
  },
  {
   "cell_type": "code",
   "execution_count": null,
   "metadata": {},
   "outputs": [],
   "source": [
    "# verifying padding and unpadding\n",
    "image = nrrd.read(\"ASOCA/Normal/CTCA/Normal_3.nrrd\")[0]\n",
    "print(train_dataset[0][\"sample\"]) # should be same as above\n",
    "image2 = unpad(train_dataset[0][\"img\"], train_dataset[0][\"indices\"])\n",
    "(image == image2).all()"
   ]
  },
  {
   "cell_type": "code",
   "execution_count": 7,
   "metadata": {},
   "outputs": [],
   "source": [
    "def RGB_mask(mask):\n",
    "    result = np.zeros((*mask.shape,3))\n",
    "    result[..., 1] = 128*mask\n",
    "    return result\n",
    "\n",
    "def RGB_image(image):\n",
    "    result = image-image.min() # [a,b] -> [0, b-a]\n",
    "    result = result/result.max()*255 # [0, b-a] -> [0,1] -> [0,255]\n",
    "    return np.repeat(np.reshape(result[:,:,:], [image.shape[0],image.shape[1],image.shape[2],1]),3,axis=3)\n",
    "\n",
    "image = train_dataset[1][\"img\"]\n",
    "mask = train_dataset[1][\"mask\"]\n",
    "indices = train_dataset[1][\"indices\"]\n",
    "image = unpad(image, indices)\n",
    "mask = unpad(mask, indices)\n",
    "rgb_image = RGB_image(image)\n",
    "rgb_mask = RGB_mask(mask)\n",
    "rgb_image = 0.5*rgb_image + 0.5*rgb_mask\n",
    "rgb_image = rgb_image.astype(np.uint8)\n",
    "images = [PIL.Image.fromarray(rgb_image[:,:,index,:]) for index in range(image.shape[2])]\n",
    "images[0].save(\"array.gif\", save_all=True, append_images=images[1:])"
   ]
  },
  {
   "cell_type": "code",
   "execution_count": null,
   "metadata": {},
   "outputs": [],
   "source": [
    "display(IPython.display.Image(data=open(\"array.gif\",'rb').read(), format='png'))"
   ]
  }
 ],
 "metadata": {
  "kernelspec": {
   "display_name": "venv",
   "language": "python",
   "name": "python3"
  },
  "language_info": {
   "codemirror_mode": {
    "name": "ipython",
    "version": 3
   },
   "file_extension": ".py",
   "mimetype": "text/x-python",
   "name": "python",
   "nbconvert_exporter": "python",
   "pygments_lexer": "ipython3",
   "version": "3.13.1"
  }
 },
 "nbformat": 4,
 "nbformat_minor": 2
}
